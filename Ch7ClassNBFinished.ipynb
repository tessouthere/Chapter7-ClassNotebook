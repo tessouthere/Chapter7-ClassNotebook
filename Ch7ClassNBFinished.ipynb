{
 "cells": [
  {
   "cell_type": "markdown",
   "metadata": {},
   "source": [
    "# While Loop\n",
    "* The for loop takes a collection of items and executes a block of code once for each item in the collection. \n",
    "* In contrast, the while loop runs as long as, or while, a certain condition is true."
   ]
  },
  {
   "cell_type": "markdown",
   "metadata": {},
   "source": [
    "## The while Loop in Action\n",
    "You can use a while loop to count up through a series of numbers. For\n",
    "example, the following while loop counts from 1 to 5:\n"
   ]
  },
  {
   "cell_type": "code",
   "execution_count": 13,
   "metadata": {},
   "outputs": [
    {
     "name": "stdout",
     "output_type": "stream",
     "text": [
      "1\n",
      "2\n",
      "3\n",
      "4\n",
      "5\n"
     ]
    }
   ],
   "source": [
    "current_number=1\n",
    "while current_number<=5:\n",
    "    print(current_number)\n",
    "    current_number+=1 #current_number=current_number+1"
   ]
  },
  {
   "cell_type": "markdown",
   "metadata": {},
   "source": [
    "## Letting the User Choose When to Quit"
   ]
  },
  {
   "cell_type": "code",
   "execution_count": 16,
   "metadata": {},
   "outputs": [
    {
     "name": "stdout",
     "output_type": "stream",
     "text": [
      "Tell me something and I will repeat it back to you. Enter 'quit' to end the program. Hello\n",
      "Hello\n",
      "Tell me something and I will repeat it back to you. Enter 'quit' to end the program. class\n",
      "class\n",
      "Tell me something and I will repeat it back to you. Enter 'quit' to end the program. Chill\n",
      "Chill\n",
      "Tell me something and I will repeat it back to you. Enter 'quit' to end the program. quit\n",
      "quit\n"
     ]
    }
   ],
   "source": [
    "prompt=\"Tell me something and I will repeat it back to you. Enter 'quit' to end the program. \"\n",
    "message=\" \"\n",
    "while message!='quit':\n",
    "    message=input(prompt)\n",
    "    print(message)"
   ]
  },
  {
   "cell_type": "markdown",
   "metadata": {},
   "source": [
    "## A Flag"
   ]
  },
  {
   "cell_type": "markdown",
   "metadata": {
    "slideshow": {
     "slide_type": "subslide"
    }
   },
   "source": [
    "### For a program that should run only as long as many conditions are true, you can define one variable that determines whether or not the entire program is active. This variable, called a `flag`, acts as a signal to the program."
   ]
  },
  {
   "cell_type": "code",
   "execution_count": 18,
   "metadata": {},
   "outputs": [
    {
     "name": "stdout",
     "output_type": "stream",
     "text": [
      "Echo the code. Enter quit to end the program: Hello\n",
      "Hello\n",
      "Echo the code. Enter quit to end the program: Wednesday\n",
      "Wednesday\n",
      "Echo the code. Enter quit to end the program: quit\n"
     ]
    }
   ],
   "source": [
    "prompt=\"Echo the code. Enter quit to end the program: \"\n",
    "active=True\n",
    "message=' '\n",
    "while active:\n",
    "    message=input(prompt)\n",
    "    if message=='quit':\n",
    "        active=False\n",
    "    else:\n",
    "        print(message)"
   ]
  },
  {
   "cell_type": "markdown",
   "metadata": {},
   "source": [
    "## Using break to Exit a Loop\n",
    "To exit a while loop immediately without running any remaining code in the\n",
    "loop, regardless of the results of any conditional test, use the break statement."
   ]
  },
  {
   "cell_type": "code",
   "execution_count": 20,
   "metadata": {},
   "outputs": [
    {
     "name": "stdout",
     "output_type": "stream",
     "text": [
      "Enter the name of the cities you want to visit. Enter quit to end the program:new york\n",
      "I would love to go to New York\n",
      "Enter the name of the cities you want to visit. Enter quit to end the program:la\n",
      "I would love to go to LA\n",
      "Enter the name of the cities you want to visit. Enter quit to end the program:new orleans\n",
      "I would love to go to New Orleans\n",
      "Enter the name of the cities you want to visit. Enter quit to end the program:quit\n"
     ]
    }
   ],
   "source": [
    "prompt=\"Enter the name of the cities you want to visit. Enter quit to end the program:\"\n",
    "active=True\n",
    "city=''\n",
    "while active:\n",
    "    city=input(prompt)\n",
    "    if city=='quit':\n",
    "        break\n",
    "    elif city==\"la\":\n",
    "        print(\"I would love to go to\",city.upper())\n",
    "    else:\n",
    "        print(\"I would love to go to\",city.title())"
   ]
  },
  {
   "cell_type": "markdown",
   "metadata": {},
   "source": [
    "### Guess the number"
   ]
  },
  {
   "cell_type": "code",
   "execution_count": 23,
   "metadata": {},
   "outputs": [
    {
     "name": "stdout",
     "output_type": "stream",
     "text": [
      "Guess a number between 1 and 10. 1\n",
      "That's not right, guess again!\n",
      "Guess a number between 1 and 10. 2\n",
      "That's not right, guess again!\n",
      "Guess a number between 1 and 10. 3\n",
      "That's not right, guess again!\n",
      "Guess a number between 1 and 10. 5\n",
      "That's really close - keep guessing!\n",
      "Guess a number between 1 and 10. 7\n",
      "That's really close - keep guessing!\n",
      "Guess a number between 1 and 10. 6\n",
      "You have guessed correctly!\n"
     ]
    }
   ],
   "source": [
    "prompt=\"Guess a number between 1 and 10. \"\n",
    "active=True\n",
    "while active:\n",
    "    number=int(input(prompt))\n",
    "    if number==6:\n",
    "        print(\"You have guessed correctly!\")\n",
    "        break\n",
    "    if number==6+1 or number==6-1:\n",
    "        print(\"That's really close - keep guessing!\")\n",
    "    else:\n",
    "        print(\"That's not right, guess again!\")"
   ]
  },
  {
   "cell_type": "markdown",
   "metadata": {},
   "source": [
    "### Guess the number with proper direction"
   ]
  },
  {
   "cell_type": "code",
   "execution_count": 24,
   "metadata": {
    "scrolled": true
   },
   "outputs": [
    {
     "name": "stdout",
     "output_type": "stream",
     "text": [
      "Guess a number between 1 to 10: 1\n",
      "That's too small, guess a larger number!\n",
      "Guess a number between 1 to 10: 10\n",
      "Woah, that's too big! Guess a smaller number.\n",
      "Guess a number between 1 to 10: 8\n",
      "Woah, that's too big! Guess a smaller number.\n",
      "Guess a number between 1 to 10: 5\n",
      "That's too small, guess a larger number!\n",
      "Guess a number between 1 to 10: 6\n",
      "Hooray! You have guessed correctly!\n"
     ]
    }
   ],
   "source": [
    "prompt=\"Guess a number between 1 to 10: \"\n",
    "active=True\n",
    "while active:\n",
    "    number=int(input(prompt))\n",
    "    if number==6:\n",
    "        print(\"Hooray! You have guessed correctly!\")\n",
    "        break\n",
    "    elif number<6:\n",
    "        print(\"That's too small, guess a larger number!\")\n",
    "    else:\n",
    "        print(\"Woah, that's too big! Guess a smaller number.\")"
   ]
  },
  {
   "cell_type": "markdown",
   "metadata": {},
   "source": [
    "### Break with for loop"
   ]
  },
  {
   "cell_type": "code",
   "execution_count": 31,
   "metadata": {},
   "outputs": [
    {
     "name": "stdout",
     "output_type": "stream",
     "text": [
      "1 2 3 4 5 6 7 8 9 10 11 12 13 14 15 16 17 18 19 20 21 22 23 24 25 26 27 28 29 30 31 32 33 34 35 36 37 38 39 "
     ]
    }
   ],
   "source": [
    "for number in range(1,101): #range is all integers 1-100 inclusive.\n",
    "    if number==40:\n",
    "        break\n",
    "    print(number,end=' ') #end=' ' prints a space after the number and loop repeats until number is 40."
   ]
  },
  {
   "cell_type": "markdown",
   "metadata": {},
   "source": [
    "### Using continue in a Loop\n",
    "- Rather than breaking out of a loop entirely without executing the rest of its code, \n",
    "- you can use the continue statement to return to the beginning of the loop based on the result of a conditional test. \n",
    "- For example, consider a loop that counts from 1 to 10 but prints only the odd numbers in that range:"
   ]
  },
  {
   "cell_type": "code",
   "execution_count": 34,
   "metadata": {},
   "outputs": [
    {
     "name": "stdout",
     "output_type": "stream",
     "text": [
      "1 2 3 4 5 6 7 8 9 10 11 12 13 14 15 16 17 18 19 20 21 22 23 24 25 26 27 28 29 30 31 32 33 34 35 36 37 38 39 41 42 43 44 45 46 47 48 49 50 51 52 53 54 55 56 57 58 59 60 61 62 63 64 65 66 67 68 69 70 71 72 73 74 75 76 77 78 79 80 81 82 83 84 85 86 87 88 89 90 91 92 93 94 95 96 97 98 99 100 "
     ]
    }
   ],
   "source": [
    "#prints entire range EXCEPT 40\n",
    "for number in range (1,101):\n",
    "    if number==40:\n",
    "        continue\n",
    "    print(number, end=\" \")"
   ]
  },
  {
   "cell_type": "code",
   "execution_count": 36,
   "metadata": {},
   "outputs": [
    {
     "name": "stdout",
     "output_type": "stream",
     "text": [
      "1 2 3 4 5 6 7 8 9 10 11 12 13 14 15 16 17 18 19 20 21 22 23 24 25 26 27 28 29 30 31 32 33 34 35 36 37 38 39 40 41 42 43 44 45 46 47 48 49 50 51 52 53 54 55 56 57 58 59 60 61 62 63 64 65 66 67 68 69 70 71 72 73 74 75 76 77 78 79 80 81 82 83 84 85 86 87 88 89 90 91 92 93 94 95 96 97 98 99 100 "
     ]
    }
   ],
   "source": [
    "#to print all values just loop through the range\n",
    "for number in range(1,101):\n",
    "    print(number,end=\" \")"
   ]
  },
  {
   "cell_type": "markdown",
   "metadata": {},
   "source": [
    "### consider a loop (while/for) that counts from 10 to 20 but prints only the even numbers in that range, use continue statement:"
   ]
  },
  {
   "cell_type": "code",
   "execution_count": 41,
   "metadata": {},
   "outputs": [
    {
     "name": "stdout",
     "output_type": "stream",
     "text": [
      "10 12 14 16 18 20 "
     ]
    }
   ],
   "source": [
    "for number in range (10,21):\n",
    "    if number%2!=0:\n",
    "        continue\n",
    "    else:\n",
    "        print(number,end=\" \")"
   ]
  },
  {
   "cell_type": "code",
   "execution_count": 47,
   "metadata": {},
   "outputs": [
    {
     "name": "stdout",
     "output_type": "stream",
     "text": [
      "10 12 14 16 18 20 "
     ]
    }
   ],
   "source": [
    "number=9 #(initialization)\n",
    "while number<20:\n",
    "    number+=1\n",
    "    if number%2==0:\n",
    "        print(number,end=' ')"
   ]
  },
  {
   "cell_type": "markdown",
   "metadata": {},
   "source": [
    "### Movie Tickets: A movie theater charges different ticket prices depending on a person’s age. \n",
    "- If a person is under the age of 3, the ticket is free; if they are between 3 and 12, the ticket is 10 dollar\n",
    "- if they are over age 12, the ticket is 15 dollar. \n",
    "Write a while loop in which you ask users their age, and then tell them the cost of their movie ticket."
   ]
  },
  {
   "cell_type": "code",
   "execution_count": 65,
   "metadata": {},
   "outputs": [
    {
     "name": "stdout",
     "output_type": "stream",
     "text": [
      "How many people are in your party? 3\n",
      "Enter a party member's age: 2\n",
      "You can get in for free. Enjoy the movie!\n",
      "Enter a party member's age: 10\n",
      "Your ticket costs 10 dollars. Enjoy!\n",
      "Enter a party member's age: 17\n",
      "Your ticket costs 15 dollars. We hope you like it!\n"
     ]
    }
   ],
   "source": [
    "party_ages=[]\n",
    "new_age=' '\n",
    "party_num=int(input(\"How many people are in your party? \"))\n",
    "while len(party_ages)<party_num:\n",
    "    new_age=int(input(\"Enter a party member's age: \"))\n",
    "    party_ages.append(new_age)\n",
    "    if new_age<3:\n",
    "         print(\"You can get in for free. Enjoy the movie!\")\n",
    "    elif new_age<13:\n",
    "         print(\"Your ticket costs 10 dollars. Enjoy!\")\n",
    "    else:\n",
    "        print(\"Your ticket costs 15 dollars. We hope you like it!\")\n",
    "    \n",
    "    "
   ]
  },
  {
   "cell_type": "markdown",
   "metadata": {},
   "source": [
    "## Using a while Loop with Lists and Dictionaries"
   ]
  },
  {
   "cell_type": "markdown",
   "metadata": {},
   "source": [
    "### Moving Items from One List to Another"
   ]
  },
  {
   "cell_type": "code",
   "execution_count": 144,
   "metadata": {},
   "outputs": [
    {
     "name": "stdout",
     "output_type": "stream",
     "text": [
      "Verifying user: Charlie\n",
      "Verifying user: Barry\n",
      "Verifying user: Andy\n"
     ]
    }
   ],
   "source": [
    "unconfirmed_users=['andy','barry','charlie']\n",
    "confirmed_users=[]\n",
    "\n",
    "while unconfirmed_users:\n",
    "    user=unconfirmed_users.pop()\n",
    "    \n",
    "    print(f\"Verifying user: {user.title()}\")\n",
    "    confirmed_users.append(user)"
   ]
  },
  {
   "cell_type": "code",
   "execution_count": 145,
   "metadata": {},
   "outputs": [
    {
     "data": {
      "text/plain": [
       "[]"
      ]
     },
     "execution_count": 145,
     "metadata": {},
     "output_type": "execute_result"
    }
   ],
   "source": [
    "unconfirmed_users"
   ]
  },
  {
   "cell_type": "code",
   "execution_count": 146,
   "metadata": {},
   "outputs": [
    {
     "data": {
      "text/plain": [
       "['charlie', 'barry', 'andy']"
      ]
     },
     "execution_count": 146,
     "metadata": {},
     "output_type": "execute_result"
    }
   ],
   "source": [
    "confirmed_users"
   ]
  },
  {
   "cell_type": "markdown",
   "metadata": {},
   "source": [
    "### Removing All Instances of Specific Values from a List"
   ]
  },
  {
   "cell_type": "code",
   "execution_count": 147,
   "metadata": {},
   "outputs": [
    {
     "name": "stdout",
     "output_type": "stream",
     "text": [
      "['dog', 'cat', 'dog', 'goldfish', 'cat', 'rabbit', 'cat']\n",
      "['dog', 'dog', 'goldfish', 'rabbit']\n"
     ]
    }
   ],
   "source": [
    "pets = ['dog','cat','dog','goldfish','cat','rabbit','cat']\n",
    "print(pets)\n",
    "\n",
    "while 'cat' in pets:\n",
    "    pets.remove('cat')\n",
    "\n",
    "print(pets)"
   ]
  },
  {
   "cell_type": "markdown",
   "metadata": {},
   "source": [
    "### Filling a Dictionary with User Input"
   ]
  },
  {
   "cell_type": "code",
   "execution_count": 180,
   "metadata": {},
   "outputs": [
    {
     "name": "stdout",
     "output_type": "stream",
     "text": [
      "\n",
      "What is your name? tess\n",
      "Which mountain would you like to climb one day?mount everest\n",
      "Will another person respond?yes\n",
      "\n",
      "What is your name? caroline\n",
      "Which mountain would you like to climb one day?mount kilimanjaro\n",
      "Will another person respond?yes\n",
      "\n",
      "What is your name? alison\n",
      "Which mountain would you like to climb one day?mount everest\n",
      "Will another person respond?no\n",
      "\n",
      " --- Poll Results --- \n",
      "Tess would like to climb Mount Everest\n",
      "Caroline would like to climb Mount Kilimanjaro\n",
      "Alison would like to climb Mount Everest\n"
     ]
    }
   ],
   "source": [
    "responses={}\n",
    "\n",
    "#set a flag to indicate polling is active\n",
    "polling_active=True\n",
    "\n",
    "while polling_active:\n",
    "    #prompt for the person's name and response\n",
    "    name=input(\"\\nWhat is your name? \")\n",
    "    response=input(\"Which mountain would you like to climb one day?\")\n",
    "    \n",
    "    #store the responses in a dictionary\n",
    "    responses[name]=response\n",
    "    \n",
    "    #find out if anyone else is going to take the poll\n",
    "    repeat=input(\"Will another person respond?\")\n",
    "    if repeat=='no':\n",
    "        polling_active=False\n",
    "        \n",
    "#polling is complete, show the results\n",
    "print(\"\\n --- Poll Results --- \")\n",
    "for name, response in responses.items():\n",
    "    print(f\"{name.title()} would like to climb {response.title()}\")"
   ]
  },
  {
   "cell_type": "markdown",
   "metadata": {},
   "source": [
    "## Deli: Make a list called sandwich_orders and fill it with the names of various sandwiches. \n",
    "- Then make an empty list called finished_sandwiches. \n",
    "- Loop through the list of sandwich orders and print a message for each order, such as I made your tuna sandwich. \n",
    "- As each sandwich is made, move it to the list of finished sandwiches. \n",
    "- After all the sandwiches have been made, print a message listing each sandwich that was made."
   ]
  },
  {
   "cell_type": "code",
   "execution_count": 170,
   "metadata": {},
   "outputs": [
    {
     "name": "stdout",
     "output_type": "stream",
     "text": [
      "Your grilled cheese is ready. Enjoy!\n",
      "Your grinder is ready. Enjoy!\n",
      "Your turkey sandwich is ready. Enjoy!\n",
      "Your peanut butter and jelly is ready. Enjoy!\n",
      "Your ham and cheese is ready. Enjoy!\n",
      "Your bacon egg and cheese is ready. Enjoy!\n",
      "Your BLT is ready. Enjoy!\n",
      "Your italian sub is ready. Enjoy!\n",
      "\n",
      "The sandwiches in your order are:\n",
      "- grilled cheese\n",
      "- grinder\n",
      "- turkey sandwich\n",
      "- peanut butter and jelly\n",
      "- ham and cheese\n",
      "- bacon egg and cheese\n",
      "- BLT\n",
      "- italian sub\n"
     ]
    }
   ],
   "source": [
    "sandwich_orders=[\"italian sub\",\"BLT\",\"bacon egg and cheese\",\"ham and cheese\",\"peanut butter and jelly\",'turkey sandwich','grinder','grilled cheese']\n",
    "finished_sandwiches=[]\n",
    "while sandwich_orders:\n",
    "    sandwich=sandwich_orders.pop()\n",
    "    print(\"Your\",sandwich,\"is ready. Enjoy!\")\n",
    "    finished_sandwiches.append(sandwich)\n",
    "print( )\n",
    "print(\"The sandwiches in your order are:\")\n",
    "for sandwich in finished_sandwiches:\n",
    "    print(\"-\",sandwich)"
   ]
  },
  {
   "cell_type": "markdown",
   "metadata": {},
   "source": [
    "## Write a program to print n natural number in descending order using a while loop.\n"
   ]
  },
  {
   "cell_type": "code",
   "execution_count": 174,
   "metadata": {},
   "outputs": [
    {
     "name": "stdout",
     "output_type": "stream",
     "text": [
      "Enter range: 15\n",
      "15 14 13 12 11 10 9 8 7 6 5 4 3 2 1 "
     ]
    }
   ],
   "source": [
    "n=int(input(\"Enter range: \"))\n",
    "while(n!=0):\n",
    "    print(n,end=\" \")\n",
    "    n-=1"
   ]
  },
  {
   "cell_type": "markdown",
   "metadata": {},
   "source": [
    "## Factorial of a number"
   ]
  },
  {
   "cell_type": "code",
   "execution_count": 3,
   "metadata": {
    "slideshow": {
     "slide_type": "-"
    }
   },
   "outputs": [
    {
     "name": "stdout",
     "output_type": "stream",
     "text": [
      "Enter a number: 10\n",
      "3628800\n"
     ]
    }
   ],
   "source": [
    "n=int(input(\"Enter a number: \"))\n",
    "#we want while loop to end when it reaches 1 so\n",
    "fact=1\n",
    "while (n):\n",
    "    fact=fact*n\n",
    "    n=n-1\n",
    "print(fact)"
   ]
  },
  {
   "cell_type": "markdown",
   "metadata": {},
   "source": [
    "## Take 10 integers from keyboard using loop and print their sum and average value on the screen"
   ]
  },
  {
   "cell_type": "code",
   "execution_count": 5,
   "metadata": {},
   "outputs": [
    {
     "name": "stdout",
     "output_type": "stream",
     "text": [
      "Enter the number: 45\n",
      "Enter the number: 56\n",
      "Enter the number: 78\n",
      "Enter the number: 23\n",
      "Enter the number: 11\n",
      "Enter the number: 78\n",
      "Enter the number: 90\n",
      "Enter the number: 32\n",
      "Enter the number: 13\n",
      "Enter the number: 67\n",
      "The average is  49.3\n"
     ]
    }
   ],
   "source": [
    "sum=0\n",
    "i=1 #i will be incremented and we need 10 values so\n",
    "while i<11: #(1,2,3,4,5,6,7,8,9,10)\n",
    "    num=int(input(\"Enter the number: \"))\n",
    "    sum=sum+num\n",
    "    i+=1 # or i=i+1 theyre the same, both end the loop\n",
    "print(\"The average is \", sum/10)"
   ]
  },
  {
   "cell_type": "markdown",
   "metadata": {},
   "source": [
    "## Take 5 integers from keyboard using loop and print their multiplication on the screen"
   ]
  },
  {
   "cell_type": "code",
   "execution_count": 8,
   "metadata": {},
   "outputs": [
    {
     "name": "stdout",
     "output_type": "stream",
     "text": [
      "Enter the number: 6\n",
      "Enter the number: 7\n",
      "Enter the number: 8\n",
      "Enter the number: 9\n",
      "Enter the number: 10\n",
      "The product is:  30240\n"
     ]
    }
   ],
   "source": [
    "product=1\n",
    "i=1\n",
    "while i<6:\n",
    "    num=int(input(\"Enter the number: \"))\n",
    "    product=product*num\n",
    "    i+=1\n",
    "print(\"The product is: \", product)"
   ]
  },
  {
   "attachments": {
    "image.png": {
     "image/png": "[encoded data removed]"
    }
   },
   "cell_type": "markdown",
   "metadata": {},
   "source": [
    "## Print the following patterns using loop :\n",
    "![image.png](attachment:image.png)"
   ]
  },
  {
   "cell_type": "code",
   "execution_count": 71,
   "metadata": {},
   "outputs": [
    {
     "name": "stdout",
     "output_type": "stream",
     "text": [
      "*\n",
      "**\n",
      "***\n",
      "****\n"
     ]
    }
   ],
   "source": [
    "star='*'\n",
    "i=0\n",
    "while i<4:\n",
    "    i+=1\n",
    "    print(star*i)"
   ]
  },
  {
   "cell_type": "markdown",
   "metadata": {},
   "source": [
    "## Write a program to display the first 7 multiples of 7.\n"
   ]
  },
  {
   "cell_type": "code",
   "execution_count": 75,
   "metadata": {},
   "outputs": [
    {
     "name": "stdout",
     "output_type": "stream",
     "text": [
      "7\n",
      "14\n",
      "21\n",
      "28\n",
      "35\n",
      "42\n",
      "49\n"
     ]
    }
   ],
   "source": [
    "i=0\n",
    "while i<7:\n",
    "    i+=1\n",
    "    print(7*i)"
   ]
  },
  {
   "cell_type": "markdown",
   "metadata": {},
   "source": [
    "## Write a program that appends the square of each number to a new list."
   ]
  },
  {
   "cell_type": "code",
   "execution_count": 107,
   "metadata": {},
   "outputs": [
    {
     "name": "stdout",
     "output_type": "stream",
     "text": [
      "The result is [4, 9, 16, 25, 36, 49]\n"
     ]
    }
   ],
   "source": [
    "num=[2,3,4,5,6,7]\n",
    "sqnum=[]\n",
    "for i in range(len(num)):\n",
    "    sqnum.append(num[i]**2)\n",
    "    #i gives one value at a time\n",
    "print(\"The result is\",sqnum)"
   ]
  },
  {
   "cell_type": "markdown",
   "metadata": {},
   "source": [
    "## Separate positive and negative number from a list.\n",
    "x = [23,12,-4,23,-9,21,3,-45,-8]"
   ]
  },
  {
   "cell_type": "code",
   "execution_count": 142,
   "metadata": {},
   "outputs": [
    {
     "name": "stdout",
     "output_type": "stream",
     "text": [
      "[-4, -9, -45, -8]\n",
      "[23, 12, 23, 21, 3]\n"
     ]
    }
   ],
   "source": [
    "x = [23,12,-4,23,-9,21,3,-45,-8]\n",
    "xpos=[]\n",
    "xneg=[]\n",
    "i=0\n",
    "for value in x:\n",
    "    if value<0:\n",
    "        xneg.append(value)\n",
    "    else:\n",
    "        xpos.append(value)\n",
    "    i=i+1\n",
    "print(xneg)\n",
    "print(xpos)"
   ]
  }
 ],
 "metadata": {
  "celltoolbar": "Raw Cell Format",
  "kernelspec": {
   "display_name": "Python 3 (ipykernel)",
   "language": "python",
   "name": "python3"
  },
  "language_info": {
   "codemirror_mode": {
    "name": "ipython",
    "version": 3
   },
   "file_extension": ".py",
   "mimetype": "text/x-python",
   "name": "python",
   "nbconvert_exporter": "python",
   "pygments_lexer": "ipython3",
   "version": "3.9.12"
  }
 },
 "nbformat": 4,
 "nbformat_minor": 2
}
